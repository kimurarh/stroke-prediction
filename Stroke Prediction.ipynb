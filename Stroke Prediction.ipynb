{
 "cells": [
  {
   "cell_type": "markdown",
   "id": "duplicate-junior",
   "metadata": {},
   "source": [
    "# Stroke Prediction"
   ]
  },
  {
   "cell_type": "markdown",
   "id": "arbitrary-pickup",
   "metadata": {},
   "source": [
    "According to the World Health Organization (WHO) stroke is the 2nd leading cause of death globally, responsible for approximately 11% of total deaths.\n",
    "\n",
    "In this project, we'll be exploring a dataset available on [Kaggle](https://www.kaggle.com/fedesoriano/stroke-prediction-dataset) containing the information on strokes. This dataset will be used to predict whether a patient is likely to have a stroke based on various input parameters."
   ]
  },
  {
   "cell_type": "markdown",
   "id": "renewable-relay",
   "metadata": {},
   "source": [
    "#### Importing Libraries"
   ]
  },
  {
   "cell_type": "code",
   "execution_count": 1,
   "id": "transsexual-jacksonville",
   "metadata": {},
   "outputs": [],
   "source": [
    "import numpy as np\n",
    "import pandas as pd\n",
    "\n",
    "import matplotlib.pyplot as plt\n",
    "import seaborn as sns\n",
    "\n",
    "from sklearn.preprocessing import StandardScaler\n",
    "from imblearn.under_sampling import RandomUnderSampler\n",
    "from imblearn.over_sampling import SMOTE\n",
    "from sklearn.model_selection import train_test_split\n",
    "from sklearn.pipeline import Pipeline\n",
    "from sklearn.model_selection import cross_val_score\n",
    "from sklearn.metrics import confusion_matrix, classification_report\n",
    "from sklearn.model_selection import GridSearchCV\n",
    "from sklearn.model_selection import  RandomizedSearchCV\n",
    "\n",
    "from sklearn.metrics import accuracy_score\n",
    "from sklearn.metrics import r2_score\n",
    "from sklearn.impute import KNNImputer\n",
    "\n",
    "from sklearn.svm import SVC\n",
    "from sklearn.linear_model import LogisticRegression\n",
    "from sklearn.linear_model import Perceptron\n",
    "from opfython.models.supervised import SupervisedOPF\n",
    "from sklearn.neighbors import KNeighborsClassifier\n",
    "from sklearn.naive_bayes import GaussianNB\n",
    "from sklearn.ensemble import RandomForestClassifier\n",
    "\n",
    "import logging\n",
    "logging.disable()"
   ]
  },
  {
   "cell_type": "code",
   "execution_count": 2,
   "id": "southern-vaccine",
   "metadata": {},
   "outputs": [],
   "source": [
    "sns.set(style=\"darkgrid\")\n",
    "sns.set_palette(\"bright\")"
   ]
  },
  {
   "cell_type": "markdown",
   "id": "compact-third",
   "metadata": {},
   "source": [
    "## 1. Loading Dataset\n",
    "___"
   ]
  },
  {
   "cell_type": "code",
   "execution_count": 3,
   "id": "aggressive-grove",
   "metadata": {},
   "outputs": [
    {
     "name": "stdout",
     "output_type": "stream",
     "text": [
      "> There are 5110 rows and 12 columns.\n"
     ]
    },
    {
     "data": {
      "text/html": [
       "<div>\n",
       "<style scoped>\n",
       "    .dataframe tbody tr th:only-of-type {\n",
       "        vertical-align: middle;\n",
       "    }\n",
       "\n",
       "    .dataframe tbody tr th {\n",
       "        vertical-align: top;\n",
       "    }\n",
       "\n",
       "    .dataframe thead th {\n",
       "        text-align: right;\n",
       "    }\n",
       "</style>\n",
       "<table border=\"1\" class=\"dataframe\">\n",
       "  <thead>\n",
       "    <tr style=\"text-align: right;\">\n",
       "      <th></th>\n",
       "      <th>id</th>\n",
       "      <th>gender</th>\n",
       "      <th>age</th>\n",
       "      <th>hypertension</th>\n",
       "      <th>heart_disease</th>\n",
       "      <th>ever_married</th>\n",
       "      <th>work_type</th>\n",
       "      <th>Residence_type</th>\n",
       "      <th>avg_glucose_level</th>\n",
       "      <th>bmi</th>\n",
       "      <th>smoking_status</th>\n",
       "      <th>stroke</th>\n",
       "    </tr>\n",
       "  </thead>\n",
       "  <tbody>\n",
       "    <tr>\n",
       "      <th>0</th>\n",
       "      <td>9046</td>\n",
       "      <td>Male</td>\n",
       "      <td>67.0</td>\n",
       "      <td>0</td>\n",
       "      <td>1</td>\n",
       "      <td>Yes</td>\n",
       "      <td>Private</td>\n",
       "      <td>Urban</td>\n",
       "      <td>228.69</td>\n",
       "      <td>36.6</td>\n",
       "      <td>formerly smoked</td>\n",
       "      <td>1</td>\n",
       "    </tr>\n",
       "    <tr>\n",
       "      <th>1</th>\n",
       "      <td>51676</td>\n",
       "      <td>Female</td>\n",
       "      <td>61.0</td>\n",
       "      <td>0</td>\n",
       "      <td>0</td>\n",
       "      <td>Yes</td>\n",
       "      <td>Self-employed</td>\n",
       "      <td>Rural</td>\n",
       "      <td>202.21</td>\n",
       "      <td>NaN</td>\n",
       "      <td>never smoked</td>\n",
       "      <td>1</td>\n",
       "    </tr>\n",
       "    <tr>\n",
       "      <th>2</th>\n",
       "      <td>31112</td>\n",
       "      <td>Male</td>\n",
       "      <td>80.0</td>\n",
       "      <td>0</td>\n",
       "      <td>1</td>\n",
       "      <td>Yes</td>\n",
       "      <td>Private</td>\n",
       "      <td>Rural</td>\n",
       "      <td>105.92</td>\n",
       "      <td>32.5</td>\n",
       "      <td>never smoked</td>\n",
       "      <td>1</td>\n",
       "    </tr>\n",
       "    <tr>\n",
       "      <th>3</th>\n",
       "      <td>60182</td>\n",
       "      <td>Female</td>\n",
       "      <td>49.0</td>\n",
       "      <td>0</td>\n",
       "      <td>0</td>\n",
       "      <td>Yes</td>\n",
       "      <td>Private</td>\n",
       "      <td>Urban</td>\n",
       "      <td>171.23</td>\n",
       "      <td>34.4</td>\n",
       "      <td>smokes</td>\n",
       "      <td>1</td>\n",
       "    </tr>\n",
       "    <tr>\n",
       "      <th>4</th>\n",
       "      <td>1665</td>\n",
       "      <td>Female</td>\n",
       "      <td>79.0</td>\n",
       "      <td>1</td>\n",
       "      <td>0</td>\n",
       "      <td>Yes</td>\n",
       "      <td>Self-employed</td>\n",
       "      <td>Rural</td>\n",
       "      <td>174.12</td>\n",
       "      <td>24.0</td>\n",
       "      <td>never smoked</td>\n",
       "      <td>1</td>\n",
       "    </tr>\n",
       "  </tbody>\n",
       "</table>\n",
       "</div>"
      ],
      "text/plain": [
       "      id  gender   age  hypertension  heart_disease ever_married  \\\n",
       "0   9046    Male  67.0             0              1          Yes   \n",
       "1  51676  Female  61.0             0              0          Yes   \n",
       "2  31112    Male  80.0             0              1          Yes   \n",
       "3  60182  Female  49.0             0              0          Yes   \n",
       "4   1665  Female  79.0             1              0          Yes   \n",
       "\n",
       "       work_type Residence_type  avg_glucose_level   bmi   smoking_status  \\\n",
       "0        Private          Urban             228.69  36.6  formerly smoked   \n",
       "1  Self-employed          Rural             202.21   NaN     never smoked   \n",
       "2        Private          Rural             105.92  32.5     never smoked   \n",
       "3        Private          Urban             171.23  34.4           smokes   \n",
       "4  Self-employed          Rural             174.12  24.0     never smoked   \n",
       "\n",
       "   stroke  \n",
       "0       1  \n",
       "1       1  \n",
       "2       1  \n",
       "3       1  \n",
       "4       1  "
      ]
     },
     "execution_count": 3,
     "metadata": {},
     "output_type": "execute_result"
    }
   ],
   "source": [
    "df = pd.read_csv(\"data/healthcare-dataset-stroke-data.csv\")\n",
    "print(f\"> There are {df.shape[0]} rows and {df.shape[1]} columns.\")\n",
    "df.head()"
   ]
  },
  {
   "cell_type": "markdown",
   "id": "dying-olive",
   "metadata": {},
   "source": [
    "**Attribute Information**:\n",
    "\n",
    "- **id**: unique identifier;\n",
    "- **gender**: gender (Male, Female or Other);\n",
    "- **age**: age of the person;\n",
    "- **hypertension**: person has hypertension (1 or 0);\n",
    "- **heart_disease**: person has any heart disease (1 or 0);\n",
    "- **ever_married**: person has been married (1 or 0);\n",
    "- **work_type**: nature of work place (children, Govt_jov, Never_worked, Private or Self-employed);\n",
    "- **Residence_type**: Residence type of the individual (Rural or Urban);\n",
    "- **avg_glucose_level**: average glucose level in blood for the individual;\n",
    "- **bmi**: body mass index of the individual;\n",
    "- **smoking_status**: current smoking status (formerly smoked, never smoked, smokes or Unknown);\n",
    "- **stroke**: person suffered heart attack (1 or 0)."
   ]
  },
  {
   "cell_type": "markdown",
   "id": "likely-riding",
   "metadata": {},
   "source": [
    "## 2. Data Cleaning\n",
    "___"
   ]
  },
  {
   "cell_type": "markdown",
   "id": "criminal-street",
   "metadata": {},
   "source": [
    "### Missing data"
   ]
  },
  {
   "cell_type": "code",
   "execution_count": 4,
   "id": "revised-posting",
   "metadata": {},
   "outputs": [
    {
     "data": {
      "image/png": "[encoded data removed]",
      "text/plain": [
       "<Figure size 432x288 with 2 Axes>"
      ]
     },
     "metadata": {},
     "output_type": "display_data"
    }
   ],
   "source": [
    "ax = sns.heatmap(df.isna().sum().to_frame(), annot=True, fmt='d', cmap='vlag')\n",
    "plt.title('Missing Values', fontweight='bold')\n",
    "ax.set_xlabel('# missing values')\n",
    "plt.show()"
   ]
  },
  {
   "cell_type": "markdown",
   "id": "restricted-bracelet",
   "metadata": {},
   "source": [
    "There are `201` missing values in the `bmi` column.\n",
    "\n",
    "\n",
    "In this case we'll be using **KNNImputer** to complete the missing values (filling them with the mean value of the `5` nearest neighbors)."
   ]
  },
  {
   "cell_type": "code",
   "execution_count": 5,
   "id": "floral-satin",
   "metadata": {},
   "outputs": [
    {
     "data": {
      "text/html": [
       "<div>\n",
       "<style scoped>\n",
       "    .dataframe tbody tr th:only-of-type {\n",
       "        vertical-align: middle;\n",
       "    }\n",
       "\n",
       "    .dataframe tbody tr th {\n",
       "        vertical-align: top;\n",
       "    }\n",
       "\n",
       "    .dataframe thead th {\n",
       "        text-align: right;\n",
       "    }\n",
       "</style>\n",
       "<table border=\"1\" class=\"dataframe\">\n",
       "  <thead>\n",
       "    <tr style=\"text-align: right;\">\n",
       "      <th></th>\n",
       "      <th>age</th>\n",
       "      <th>avg_glucose_level</th>\n",
       "      <th>bmi</th>\n",
       "    </tr>\n",
       "  </thead>\n",
       "  <tbody>\n",
       "    <tr>\n",
       "      <th>0</th>\n",
       "      <td>67.0</td>\n",
       "      <td>228.69</td>\n",
       "      <td>36.60</td>\n",
       "    </tr>\n",
       "    <tr>\n",
       "      <th>1</th>\n",
       "      <td>61.0</td>\n",
       "      <td>202.21</td>\n",
       "      <td>31.14</td>\n",
       "    </tr>\n",
       "    <tr>\n",
       "      <th>2</th>\n",
       "      <td>80.0</td>\n",
       "      <td>105.92</td>\n",
       "      <td>32.50</td>\n",
       "    </tr>\n",
       "    <tr>\n",
       "      <th>3</th>\n",
       "      <td>49.0</td>\n",
       "      <td>171.23</td>\n",
       "      <td>34.40</td>\n",
       "    </tr>\n",
       "    <tr>\n",
       "      <th>4</th>\n",
       "      <td>79.0</td>\n",
       "      <td>174.12</td>\n",
       "      <td>24.00</td>\n",
       "    </tr>\n",
       "    <tr>\n",
       "      <th>...</th>\n",
       "      <td>...</td>\n",
       "      <td>...</td>\n",
       "      <td>...</td>\n",
       "    </tr>\n",
       "    <tr>\n",
       "      <th>5105</th>\n",
       "      <td>80.0</td>\n",
       "      <td>83.75</td>\n",
       "      <td>27.08</td>\n",
       "    </tr>\n",
       "    <tr>\n",
       "      <th>5106</th>\n",
       "      <td>81.0</td>\n",
       "      <td>125.20</td>\n",
       "      <td>40.00</td>\n",
       "    </tr>\n",
       "    <tr>\n",
       "      <th>5107</th>\n",
       "      <td>35.0</td>\n",
       "      <td>82.99</td>\n",
       "      <td>30.60</td>\n",
       "    </tr>\n",
       "    <tr>\n",
       "      <th>5108</th>\n",
       "      <td>51.0</td>\n",
       "      <td>166.29</td>\n",
       "      <td>25.60</td>\n",
       "    </tr>\n",
       "    <tr>\n",
       "      <th>5109</th>\n",
       "      <td>44.0</td>\n",
       "      <td>85.28</td>\n",
       "      <td>26.20</td>\n",
       "    </tr>\n",
       "  </tbody>\n",
       "</table>\n",
       "<p>5110 rows × 3 columns</p>\n",
       "</div>"
      ],
      "text/plain": [
       "       age  avg_glucose_level    bmi\n",
       "0     67.0             228.69  36.60\n",
       "1     61.0             202.21  31.14\n",
       "2     80.0             105.92  32.50\n",
       "3     49.0             171.23  34.40\n",
       "4     79.0             174.12  24.00\n",
       "...    ...                ...    ...\n",
       "5105  80.0              83.75  27.08\n",
       "5106  81.0             125.20  40.00\n",
       "5107  35.0              82.99  30.60\n",
       "5108  51.0             166.29  25.60\n",
       "5109  44.0              85.28  26.20\n",
       "\n",
       "[5110 rows x 3 columns]"
      ]
     },
     "execution_count": 5,
     "metadata": {},
     "output_type": "execute_result"
    }
   ],
   "source": [
    "# Selecting columns we'll be using in the knnimputer\n",
    "imputer_cols = ['age', 'avg_glucose_level', 'bmi']\n",
    "df_imputer = df[imputer_cols].copy()\n",
    "\n",
    "# Data Normalization\n",
    "scaler = StandardScaler()\n",
    "df_imputer = scaler.fit_transform(df_imputer)\n",
    "\n",
    "# Imputing missing data\n",
    "imputer = KNNImputer(n_neighbors=5)\n",
    "df_imputed = imputer.fit_transform(df_imputer)\n",
    "\n",
    "# Reverting data normalization\n",
    "df_imputed = pd.DataFrame(scaler.inverse_transform(df_imputed), columns=imputer_cols)\n",
    "df_imputed"
   ]
  },
  {
   "cell_type": "code",
   "execution_count": 6,
   "id": "fixed-intersection",
   "metadata": {},
   "outputs": [],
   "source": [
    "# Adding the new data (imputed data)\n",
    "df['bmi'] = df_imputed['bmi']"
   ]
  },
  {
   "cell_type": "code",
   "execution_count": 7,
   "id": "lovely-protest",
   "metadata": {},
   "outputs": [
    {
     "name": "stdout",
     "output_type": "stream",
     "text": [
      "> Missing values after data cleaning: 0\n"
     ]
    }
   ],
   "source": [
    "print(f\"> Missing values after data cleaning: {sum(df.isna().sum())}\")"
   ]
  },
  {
   "cell_type": "markdown",
   "id": "conventional-specification",
   "metadata": {},
   "source": [
    "## 3. Exploratory Analysis\n",
    "___"
   ]
  },
  {
   "cell_type": "markdown",
   "id": "descending-hypothetical",
   "metadata": {},
   "source": [
    "This dataset is **highly imbalanced**. There are only **249** strokes cases in our whole dataset (**4,87%**)."
   ]
  },
  {
   "cell_type": "code",
   "execution_count": 8,
   "id": "agricultural-antibody",
   "metadata": {},
   "outputs": [
    {
     "data": {
      "text/plain": [
       "0    4861\n",
       "1     249\n",
       "Name: stroke, dtype: int64"
      ]
     },
     "execution_count": 8,
     "metadata": {},
     "output_type": "execute_result"
    }
   ],
   "source": [
    "df['stroke'].value_counts()"
   ]
  },
  {
   "cell_type": "markdown",
   "id": "digital-commission",
   "metadata": {},
   "source": [
    "### 3.1 Visualization of Numeric Variables"
   ]
  },
  {
   "cell_type": "markdown",
   "id": "signed-placement",
   "metadata": {},
   "source": [
    "In order to visualize the distribution of numeric variables, we'll be splitting the dataframe into **Stroke** and **No Stroke**"
   ]
  },
  {
   "cell_type": "code",
   "execution_count": 9,
   "id": "developing-concept",
   "metadata": {},
   "outputs": [],
   "source": [
    "# Splitting cases in stroke and no-stroke\n",
    "df_stroke = df[df['stroke'] == 1]\n",
    "df_nostroke = df[df['stroke'] == 0]"
   ]
  },
  {
   "cell_type": "markdown",
   "id": "right-gamma",
   "metadata": {},
   "source": [
    "#### Age Distribution"
   ]
  },
  {
   "cell_type": "code",
   "execution_count": 10,
   "id": "frequent-indian",
   "metadata": {},
   "outputs": [
    {
     "data": {
      "image/png": "[encoded data removed]",
      "text/plain": [
       "<Figure size 576x288 with 1 Axes>"
      ]
     },
     "metadata": {},
     "output_type": "display_data"
    }
   ],
   "source": [
    "plt.figure(figsize=(8, 4))\n",
    "ax = sns.kdeplot(df_stroke['age'], shade=True, color='red', alpha=0.4, label='Stroke')\n",
    "ax = sns.kdeplot(df_nostroke['age'], shade=True, color='blue', alpha=0.4, label='No Stroke')\n",
    "ax.legend(loc='upper left')\n",
    "plt.show()"
   ]
  },
  {
   "cell_type": "markdown",
   "id": "surprised-extension",
   "metadata": {},
   "source": [
    "This distribution shows us that age is an **important factor** when analysing strokes. You are more likely to suffer a stroke if you are **older**."
   ]
  },
  {
   "cell_type": "markdown",
   "id": "quarterly-replication",
   "metadata": {},
   "source": [
    "#### Average Glucose Level Distribution"
   ]
  },
  {
   "cell_type": "code",
   "execution_count": 11,
   "id": "julian-demand",
   "metadata": {},
   "outputs": [
    {
     "data": {
      "image/png": "[encoded data removed]",
      "text/plain": [
       "<Figure size 576x288 with 1 Axes>"
      ]
     },
     "metadata": {},
     "output_type": "display_data"
    }
   ],
   "source": [
    "plt.figure(figsize=(8, 4))\n",
    "ax = sns.kdeplot(df_stroke['avg_glucose_level'], shade=True, color='red', alpha=0.4, label='Stroke')\n",
    "ax = sns.kdeplot(df_nostroke['avg_glucose_level'], shade=True, color='blue', alpha=0.4, label='No Stroke')\n",
    "ax.legend(loc='upper left')\n",
    "plt.show()"
   ]
  },
  {
   "cell_type": "markdown",
   "id": "instructional-constitutional",
   "metadata": {},
   "source": [
    "#### BMI Distribution"
   ]
  },
  {
   "cell_type": "code",
   "execution_count": 12,
   "id": "curious-divide",
   "metadata": {},
   "outputs": [
    {
     "data": {
      "image/png": "[encoded data removed]",
      "text/plain": [
       "<Figure size 576x288 with 1 Axes>"
      ]
     },
     "metadata": {},
     "output_type": "display_data"
    }
   ],
   "source": [
    "plt.figure(figsize=(8, 4))\n",
    "ax = sns.kdeplot(df_stroke['bmi'], shade=True, color='red', alpha=0.4, label='Stroke')\n",
    "ax = sns.kdeplot(df_nostroke['bmi'], shade=True, color='blue', alpha=0.4, label='No Stroke')\n",
    "ax.legend(loc='upper left')\n",
    "plt.show()"
   ]
  },
  {
   "cell_type": "markdown",
   "id": "becoming-danger",
   "metadata": {},
   "source": [
    "### 3.2 Visualization of Categoric Variables"
   ]
  },
  {
   "cell_type": "markdown",
   "id": "fatty-badge",
   "metadata": {},
   "source": [
    "Defining a function to calculate percentage of `stroke` and `no_stroke` in each category:"
   ]
  },
  {
   "cell_type": "code",
   "execution_count": 13,
   "id": "needed-collins",
   "metadata": {},
   "outputs": [],
   "source": [
    "def percentage_df(df_stroke, df_nostroke, col_name):\n",
    "    df_perc = pd.DataFrame(df_stroke[col_name].value_counts() / len(df_stroke) * 100)\\\n",
    "                           .rename(columns={col_name: 'Stroke'})\n",
    "    df_perc['No Stroke'] = df_nostroke[col_name].value_counts() / len(df_nostroke) * 100\n",
    "    df_perc = df_perc.reset_index().rename(columns={'index': col_name})\n",
    "    return df_perc"
   ]
  },
  {
   "cell_type": "markdown",
   "id": "solved-sleeve",
   "metadata": {},
   "source": [
    "Defining a function to plot the comparison between categoric variables:"
   ]
  },
  {
   "cell_type": "code",
   "execution_count": 14,
   "id": "integrated-denver",
   "metadata": {},
   "outputs": [],
   "source": [
    "def plot_comparison(percentage_df, col_name):\n",
    "    melted_df = percentage_df.melt(id_vars=col_name).rename(columns={'value': 'Percentage', 'variable': 'Type'})\n",
    "    sns.barplot(data=melted_df, x=col_name, y='Percentage', hue='Type', palette=['red', 'blue'], alpha=0.6);"
   ]
  },
  {
   "cell_type": "markdown",
   "id": "demanding-bones",
   "metadata": {},
   "source": [
    "#### Work Type"
   ]
  },
  {
   "cell_type": "code",
   "execution_count": 15,
   "id": "therapeutic-savage",
   "metadata": {},
   "outputs": [
    {
     "data": {
      "text/html": [
       "<div>\n",
       "<style scoped>\n",
       "    .dataframe tbody tr th:only-of-type {\n",
       "        vertical-align: middle;\n",
       "    }\n",
       "\n",
       "    .dataframe tbody tr th {\n",
       "        vertical-align: top;\n",
       "    }\n",
       "\n",
       "    .dataframe thead th {\n",
       "        text-align: right;\n",
       "    }\n",
       "</style>\n",
       "<table border=\"1\" class=\"dataframe\">\n",
       "  <thead>\n",
       "    <tr style=\"text-align: right;\">\n",
       "      <th></th>\n",
       "      <th>work_type</th>\n",
       "      <th>Stroke</th>\n",
       "      <th>No Stroke</th>\n",
       "    </tr>\n",
       "  </thead>\n",
       "  <tbody>\n",
       "    <tr>\n",
       "      <th>0</th>\n",
       "      <td>Private</td>\n",
       "      <td>59.839357</td>\n",
       "      <td>57.107591</td>\n",
       "    </tr>\n",
       "    <tr>\n",
       "      <th>1</th>\n",
       "      <td>Self-employed</td>\n",
       "      <td>26.104418</td>\n",
       "      <td>15.511212</td>\n",
       "    </tr>\n",
       "    <tr>\n",
       "      <th>2</th>\n",
       "      <td>Govt_job</td>\n",
       "      <td>13.253012</td>\n",
       "      <td>12.836865</td>\n",
       "    </tr>\n",
       "    <tr>\n",
       "      <th>3</th>\n",
       "      <td>children</td>\n",
       "      <td>0.803213</td>\n",
       "      <td>14.091751</td>\n",
       "    </tr>\n",
       "  </tbody>\n",
       "</table>\n",
       "</div>"
      ],
      "text/plain": [
       "       work_type     Stroke  No Stroke\n",
       "0        Private  59.839357  57.107591\n",
       "1  Self-employed  26.104418  15.511212\n",
       "2       Govt_job  13.253012  12.836865\n",
       "3       children   0.803213  14.091751"
      ]
     },
     "execution_count": 15,
     "metadata": {},
     "output_type": "execute_result"
    }
   ],
   "source": [
    "work_type = percentage_df(df_stroke, df_nostroke, 'work_type')\n",
    "work_type"
   ]
  },
  {
   "cell_type": "code",
   "execution_count": 16,
   "id": "wireless-cannon",
   "metadata": {},
   "outputs": [
    {
     "data": {
      "image/png": "[encoded data removed]",
      "text/plain": [
       "<Figure size 432x288 with 1 Axes>"
      ]
     },
     "metadata": {},
     "output_type": "display_data"
    }
   ],
   "source": [
    "plot_comparison(work_type, 'work_type')"
   ]
  },
  {
   "cell_type": "markdown",
   "id": "curious-border",
   "metadata": {},
   "source": [
    "#### Gender"
   ]
  },
  {
   "cell_type": "code",
   "execution_count": 17,
   "id": "premium-ratio",
   "metadata": {},
   "outputs": [
    {
     "data": {
      "text/html": [
       "<div>\n",
       "<style scoped>\n",
       "    .dataframe tbody tr th:only-of-type {\n",
       "        vertical-align: middle;\n",
       "    }\n",
       "\n",
       "    .dataframe tbody tr th {\n",
       "        vertical-align: top;\n",
       "    }\n",
       "\n",
       "    .dataframe thead th {\n",
       "        text-align: right;\n",
       "    }\n",
       "</style>\n",
       "<table border=\"1\" class=\"dataframe\">\n",
       "  <thead>\n",
       "    <tr style=\"text-align: right;\">\n",
       "      <th></th>\n",
       "      <th>gender</th>\n",
       "      <th>Stroke</th>\n",
       "      <th>No Stroke</th>\n",
       "    </tr>\n",
       "  </thead>\n",
       "  <tbody>\n",
       "    <tr>\n",
       "      <th>0</th>\n",
       "      <td>Female</td>\n",
       "      <td>56.626506</td>\n",
       "      <td>58.691627</td>\n",
       "    </tr>\n",
       "    <tr>\n",
       "      <th>1</th>\n",
       "      <td>Male</td>\n",
       "      <td>43.373494</td>\n",
       "      <td>41.287801</td>\n",
       "    </tr>\n",
       "  </tbody>\n",
       "</table>\n",
       "</div>"
      ],
      "text/plain": [
       "   gender     Stroke  No Stroke\n",
       "0  Female  56.626506  58.691627\n",
       "1    Male  43.373494  41.287801"
      ]
     },
     "execution_count": 17,
     "metadata": {},
     "output_type": "execute_result"
    }
   ],
   "source": [
    "gender_type = percentage_df(df_stroke, df_nostroke, 'gender')\n",
    "gender_type"
   ]
  },
  {
   "cell_type": "code",
   "execution_count": 18,
   "id": "administrative-intersection",
   "metadata": {},
   "outputs": [
    {
     "data": {
      "image/png": "[encoded data removed]",
      "text/plain": [
       "<Figure size 432x288 with 1 Axes>"
      ]
     },
     "metadata": {},
     "output_type": "display_data"
    }
   ],
   "source": [
    "plot_comparison(gender_type, 'gender')"
   ]
  },
  {
   "cell_type": "markdown",
   "id": "vocational-prediction",
   "metadata": {},
   "source": [
    "#### Hypertension"
   ]
  },
  {
   "cell_type": "code",
   "execution_count": 19,
   "id": "color-nicaragua",
   "metadata": {},
   "outputs": [
    {
     "data": {
      "text/html": [
       "<div>\n",
       "<style scoped>\n",
       "    .dataframe tbody tr th:only-of-type {\n",
       "        vertical-align: middle;\n",
       "    }\n",
       "\n",
       "    .dataframe tbody tr th {\n",
       "        vertical-align: top;\n",
       "    }\n",
       "\n",
       "    .dataframe thead th {\n",
       "        text-align: right;\n",
       "    }\n",
       "</style>\n",
       "<table border=\"1\" class=\"dataframe\">\n",
       "  <thead>\n",
       "    <tr style=\"text-align: right;\">\n",
       "      <th></th>\n",
       "      <th>hypertension</th>\n",
       "      <th>Stroke</th>\n",
       "      <th>No Stroke</th>\n",
       "    </tr>\n",
       "  </thead>\n",
       "  <tbody>\n",
       "    <tr>\n",
       "      <th>0</th>\n",
       "      <td>0</td>\n",
       "      <td>73.493976</td>\n",
       "      <td>91.11294</td>\n",
       "    </tr>\n",
       "    <tr>\n",
       "      <th>1</th>\n",
       "      <td>1</td>\n",
       "      <td>26.506024</td>\n",
       "      <td>8.88706</td>\n",
       "    </tr>\n",
       "  </tbody>\n",
       "</table>\n",
       "</div>"
      ],
      "text/plain": [
       "   hypertension     Stroke  No Stroke\n",
       "0             0  73.493976   91.11294\n",
       "1             1  26.506024    8.88706"
      ]
     },
     "execution_count": 19,
     "metadata": {},
     "output_type": "execute_result"
    }
   ],
   "source": [
    "hypertension = percentage_df(df_stroke, df_nostroke, 'hypertension')\n",
    "hypertension"
   ]
  },
  {
   "cell_type": "code",
   "execution_count": 20,
   "id": "neural-probe",
   "metadata": {},
   "outputs": [
    {
     "data": {
      "image/png": "[encoded data removed]",
      "text/plain": [
       "<Figure size 432x288 with 1 Axes>"
      ]
     },
     "metadata": {},
     "output_type": "display_data"
    }
   ],
   "source": [
    "plot_comparison(hypertension, 'hypertension')"
   ]
  },
  {
   "cell_type": "markdown",
   "id": "fabulous-control",
   "metadata": {},
   "source": [
    "#### Heat Disease"
   ]
  },
  {
   "cell_type": "code",
   "execution_count": 21,
   "id": "descending-devil",
   "metadata": {},
   "outputs": [
    {
     "data": {
      "text/html": [
       "<div>\n",
       "<style scoped>\n",
       "    .dataframe tbody tr th:only-of-type {\n",
       "        vertical-align: middle;\n",
       "    }\n",
       "\n",
       "    .dataframe tbody tr th {\n",
       "        vertical-align: top;\n",
       "    }\n",
       "\n",
       "    .dataframe thead th {\n",
       "        text-align: right;\n",
       "    }\n",
       "</style>\n",
       "<table border=\"1\" class=\"dataframe\">\n",
       "  <thead>\n",
       "    <tr style=\"text-align: right;\">\n",
       "      <th></th>\n",
       "      <th>heart_disease</th>\n",
       "      <th>Stroke</th>\n",
       "      <th>No Stroke</th>\n",
       "    </tr>\n",
       "  </thead>\n",
       "  <tbody>\n",
       "    <tr>\n",
       "      <th>0</th>\n",
       "      <td>0</td>\n",
       "      <td>81.124498</td>\n",
       "      <td>95.289035</td>\n",
       "    </tr>\n",
       "    <tr>\n",
       "      <th>1</th>\n",
       "      <td>1</td>\n",
       "      <td>18.875502</td>\n",
       "      <td>4.710965</td>\n",
       "    </tr>\n",
       "  </tbody>\n",
       "</table>\n",
       "</div>"
      ],
      "text/plain": [
       "   heart_disease     Stroke  No Stroke\n",
       "0              0  81.124498  95.289035\n",
       "1              1  18.875502   4.710965"
      ]
     },
     "execution_count": 21,
     "metadata": {},
     "output_type": "execute_result"
    }
   ],
   "source": [
    "heart_disease = percentage_df(df_stroke, df_nostroke, 'heart_disease')\n",
    "heart_disease"
   ]
  },
  {
   "cell_type": "code",
   "execution_count": 22,
   "id": "alive-fountain",
   "metadata": {},
   "outputs": [
    {
     "data": {
      "image/png": "[encoded data removed]",
      "text/plain": [
       "<Figure size 432x288 with 1 Axes>"
      ]
     },
     "metadata": {},
     "output_type": "display_data"
    }
   ],
   "source": [
    "plot_comparison(heart_disease, 'heart_disease')"
   ]
  },
  {
   "cell_type": "markdown",
   "id": "corporate-rugby",
   "metadata": {},
   "source": [
    "#### Ever Married"
   ]
  },
  {
   "cell_type": "code",
   "execution_count": 23,
   "id": "muslim-gilbert",
   "metadata": {},
   "outputs": [
    {
     "data": {
      "text/html": [
       "<div>\n",
       "<style scoped>\n",
       "    .dataframe tbody tr th:only-of-type {\n",
       "        vertical-align: middle;\n",
       "    }\n",
       "\n",
       "    .dataframe tbody tr th {\n",
       "        vertical-align: top;\n",
       "    }\n",
       "\n",
       "    .dataframe thead th {\n",
       "        text-align: right;\n",
       "    }\n",
       "</style>\n",
       "<table border=\"1\" class=\"dataframe\">\n",
       "  <thead>\n",
       "    <tr style=\"text-align: right;\">\n",
       "      <th></th>\n",
       "      <th>ever_married</th>\n",
       "      <th>Stroke</th>\n",
       "      <th>No Stroke</th>\n",
       "    </tr>\n",
       "  </thead>\n",
       "  <tbody>\n",
       "    <tr>\n",
       "      <th>0</th>\n",
       "      <td>Yes</td>\n",
       "      <td>88.353414</td>\n",
       "      <td>64.451759</td>\n",
       "    </tr>\n",
       "    <tr>\n",
       "      <th>1</th>\n",
       "      <td>No</td>\n",
       "      <td>11.646586</td>\n",
       "      <td>35.548241</td>\n",
       "    </tr>\n",
       "  </tbody>\n",
       "</table>\n",
       "</div>"
      ],
      "text/plain": [
       "  ever_married     Stroke  No Stroke\n",
       "0          Yes  88.353414  64.451759\n",
       "1           No  11.646586  35.548241"
      ]
     },
     "execution_count": 23,
     "metadata": {},
     "output_type": "execute_result"
    }
   ],
   "source": [
    "ever_married = percentage_df(df_stroke, df_nostroke, 'ever_married')\n",
    "ever_married"
   ]
  },
  {
   "cell_type": "code",
   "execution_count": 24,
   "id": "willing-attempt",
   "metadata": {},
   "outputs": [
    {
     "data": {
      "image/png": "[encoded data removed]",
      "text/plain": [
       "<Figure size 432x288 with 1 Axes>"
      ]
     },
     "metadata": {},
     "output_type": "display_data"
    }
   ],
   "source": [
    "plot_comparison(ever_married, 'ever_married')"
   ]
  },
  {
   "cell_type": "markdown",
   "id": "assisted-northern",
   "metadata": {},
   "source": [
    "#### Residence Type"
   ]
  },
  {
   "cell_type": "code",
   "execution_count": 25,
   "id": "imported-rapid",
   "metadata": {},
   "outputs": [
    {
     "data": {
      "text/html": [
       "<div>\n",
       "<style scoped>\n",
       "    .dataframe tbody tr th:only-of-type {\n",
       "        vertical-align: middle;\n",
       "    }\n",
       "\n",
       "    .dataframe tbody tr th {\n",
       "        vertical-align: top;\n",
       "    }\n",
       "\n",
       "    .dataframe thead th {\n",
       "        text-align: right;\n",
       "    }\n",
       "</style>\n",
       "<table border=\"1\" class=\"dataframe\">\n",
       "  <thead>\n",
       "    <tr style=\"text-align: right;\">\n",
       "      <th></th>\n",
       "      <th>Residence_type</th>\n",
       "      <th>Stroke</th>\n",
       "      <th>No Stroke</th>\n",
       "    </tr>\n",
       "  </thead>\n",
       "  <tbody>\n",
       "    <tr>\n",
       "      <th>0</th>\n",
       "      <td>Urban</td>\n",
       "      <td>54.216867</td>\n",
       "      <td>50.627443</td>\n",
       "    </tr>\n",
       "    <tr>\n",
       "      <th>1</th>\n",
       "      <td>Rural</td>\n",
       "      <td>45.783133</td>\n",
       "      <td>49.372557</td>\n",
       "    </tr>\n",
       "  </tbody>\n",
       "</table>\n",
       "</div>"
      ],
      "text/plain": [
       "  Residence_type     Stroke  No Stroke\n",
       "0          Urban  54.216867  50.627443\n",
       "1          Rural  45.783133  49.372557"
      ]
     },
     "execution_count": 25,
     "metadata": {},
     "output_type": "execute_result"
    }
   ],
   "source": [
    "residence_type = percentage_df(df_stroke, df_nostroke, 'Residence_type')\n",
    "residence_type"
   ]
  },
  {
   "cell_type": "code",
   "execution_count": 26,
   "id": "arbitrary-cambridge",
   "metadata": {},
   "outputs": [
    {
     "data": {
      "image/png": "[encoded data removed]",
      "text/plain": [
       "<Figure size 432x288 with 1 Axes>"
      ]
     },
     "metadata": {},
     "output_type": "display_data"
    }
   ],
   "source": [
    "plot_comparison(residence_type, 'Residence_type')"
   ]
  },
  {
   "cell_type": "markdown",
   "id": "unnecessary-modern",
   "metadata": {},
   "source": [
    "#### Smoking Status"
   ]
  },
  {
   "cell_type": "code",
   "execution_count": 27,
   "id": "filled-scott",
   "metadata": {},
   "outputs": [
    {
     "data": {
      "text/html": [
       "<div>\n",
       "<style scoped>\n",
       "    .dataframe tbody tr th:only-of-type {\n",
       "        vertical-align: middle;\n",
       "    }\n",
       "\n",
       "    .dataframe tbody tr th {\n",
       "        vertical-align: top;\n",
       "    }\n",
       "\n",
       "    .dataframe thead th {\n",
       "        text-align: right;\n",
       "    }\n",
       "</style>\n",
       "<table border=\"1\" class=\"dataframe\">\n",
       "  <thead>\n",
       "    <tr style=\"text-align: right;\">\n",
       "      <th></th>\n",
       "      <th>smoking_status</th>\n",
       "      <th>Stroke</th>\n",
       "      <th>No Stroke</th>\n",
       "    </tr>\n",
       "  </thead>\n",
       "  <tbody>\n",
       "    <tr>\n",
       "      <th>0</th>\n",
       "      <td>never smoked</td>\n",
       "      <td>36.144578</td>\n",
       "      <td>37.070562</td>\n",
       "    </tr>\n",
       "    <tr>\n",
       "      <th>1</th>\n",
       "      <td>formerly smoked</td>\n",
       "      <td>28.112450</td>\n",
       "      <td>16.766098</td>\n",
       "    </tr>\n",
       "    <tr>\n",
       "      <th>2</th>\n",
       "      <td>Unknown</td>\n",
       "      <td>18.875502</td>\n",
       "      <td>30.796132</td>\n",
       "    </tr>\n",
       "    <tr>\n",
       "      <th>3</th>\n",
       "      <td>smokes</td>\n",
       "      <td>16.867470</td>\n",
       "      <td>15.367208</td>\n",
       "    </tr>\n",
       "  </tbody>\n",
       "</table>\n",
       "</div>"
      ],
      "text/plain": [
       "    smoking_status     Stroke  No Stroke\n",
       "0     never smoked  36.144578  37.070562\n",
       "1  formerly smoked  28.112450  16.766098\n",
       "2          Unknown  18.875502  30.796132\n",
       "3           smokes  16.867470  15.367208"
      ]
     },
     "execution_count": 27,
     "metadata": {},
     "output_type": "execute_result"
    }
   ],
   "source": [
    "smoking_status = percentage_df(df_stroke, df_nostroke, 'smoking_status')\n",
    "smoking_status"
   ]
  },
  {
   "cell_type": "code",
   "execution_count": 28,
   "id": "advised-salmon",
   "metadata": {},
   "outputs": [
    {
     "data": {
      "image/png": "[encoded data removed]",
      "text/plain": [
       "<Figure size 432x288 with 1 Axes>"
      ]
     },
     "metadata": {},
     "output_type": "display_data"
    }
   ],
   "source": [
    "plot_comparison(smoking_status, 'smoking_status')"
   ]
  },
  {
   "cell_type": "markdown",
   "id": "uniform-seventh",
   "metadata": {},
   "source": [
    "## 4. Pre Processing\n",
    "___"
   ]
  },
  {
   "cell_type": "markdown",
   "id": "entitled-wisdom",
   "metadata": {},
   "source": [
    "### 4.1 Encoding Categorical Variables"
   ]
  },
  {
   "cell_type": "markdown",
   "id": "union-stage",
   "metadata": {},
   "source": [
    "#### Label Enconding"
   ]
  },
  {
   "cell_type": "code",
   "execution_count": 29,
   "id": "appointed-regulation",
   "metadata": {},
   "outputs": [],
   "source": [
    "# Label Encoding\n",
    "df['gender'] = df['gender'].replace({'Male': 0, 'Female': 1, 'Other': -1})\n",
    "df['ever_married'] = df['ever_married'].replace({'No': 0, 'Yes': 1})\n",
    "df['Residence_type'] = df['Residence_type'].replace({'Rural': 0, 'Urban': 1})\n",
    "df['smoking_status'] = df['smoking_status'].replace({'never smoked': 0, 'formerly smoked': 1, 'smokes': 2, 'Unknown': -1})"
   ]
  },
  {
   "cell_type": "markdown",
   "id": "animated-wisconsin",
   "metadata": {},
   "source": [
    "#### One Hot Enconding"
   ]
  },
  {
   "cell_type": "code",
   "execution_count": 30,
   "id": "thousand-prevention",
   "metadata": {},
   "outputs": [],
   "source": [
    "df = pd.get_dummies(df, columns=['work_type'], prefix='work', prefix_sep=':', dtype=int)"
   ]
  },
  {
   "cell_type": "code",
   "execution_count": 31,
   "id": "covered-geneva",
   "metadata": {},
   "outputs": [
    {
     "data": {
      "text/html": [
       "<div>\n",
       "<style scoped>\n",
       "    .dataframe tbody tr th:only-of-type {\n",
       "        vertical-align: middle;\n",
       "    }\n",
       "\n",
       "    .dataframe tbody tr th {\n",
       "        vertical-align: top;\n",
       "    }\n",
       "\n",
       "    .dataframe thead th {\n",
       "        text-align: right;\n",
       "    }\n",
       "</style>\n",
       "<table border=\"1\" class=\"dataframe\">\n",
       "  <thead>\n",
       "    <tr style=\"text-align: right;\">\n",
       "      <th></th>\n",
       "      <th>id</th>\n",
       "      <th>gender</th>\n",
       "      <th>age</th>\n",
       "      <th>hypertension</th>\n",
       "      <th>heart_disease</th>\n",
       "      <th>ever_married</th>\n",
       "      <th>Residence_type</th>\n",
       "      <th>avg_glucose_level</th>\n",
       "      <th>bmi</th>\n",
       "      <th>smoking_status</th>\n",
       "      <th>stroke</th>\n",
       "      <th>work:Govt_job</th>\n",
       "      <th>work:Never_worked</th>\n",
       "      <th>work:Private</th>\n",
       "      <th>work:Self-employed</th>\n",
       "      <th>work:children</th>\n",
       "    </tr>\n",
       "  </thead>\n",
       "  <tbody>\n",
       "    <tr>\n",
       "      <th>0</th>\n",
       "      <td>9046</td>\n",
       "      <td>0</td>\n",
       "      <td>67.0</td>\n",
       "      <td>0</td>\n",
       "      <td>1</td>\n",
       "      <td>1</td>\n",
       "      <td>1</td>\n",
       "      <td>228.69</td>\n",
       "      <td>36.60</td>\n",
       "      <td>1</td>\n",
       "      <td>1</td>\n",
       "      <td>0</td>\n",
       "      <td>0</td>\n",
       "      <td>1</td>\n",
       "      <td>0</td>\n",
       "      <td>0</td>\n",
       "    </tr>\n",
       "    <tr>\n",
       "      <th>1</th>\n",
       "      <td>51676</td>\n",
       "      <td>1</td>\n",
       "      <td>61.0</td>\n",
       "      <td>0</td>\n",
       "      <td>0</td>\n",
       "      <td>1</td>\n",
       "      <td>0</td>\n",
       "      <td>202.21</td>\n",
       "      <td>31.14</td>\n",
       "      <td>0</td>\n",
       "      <td>1</td>\n",
       "      <td>0</td>\n",
       "      <td>0</td>\n",
       "      <td>0</td>\n",
       "      <td>1</td>\n",
       "      <td>0</td>\n",
       "    </tr>\n",
       "    <tr>\n",
       "      <th>2</th>\n",
       "      <td>31112</td>\n",
       "      <td>0</td>\n",
       "      <td>80.0</td>\n",
       "      <td>0</td>\n",
       "      <td>1</td>\n",
       "      <td>1</td>\n",
       "      <td>0</td>\n",
       "      <td>105.92</td>\n",
       "      <td>32.50</td>\n",
       "      <td>0</td>\n",
       "      <td>1</td>\n",
       "      <td>0</td>\n",
       "      <td>0</td>\n",
       "      <td>1</td>\n",
       "      <td>0</td>\n",
       "      <td>0</td>\n",
       "    </tr>\n",
       "    <tr>\n",
       "      <th>3</th>\n",
       "      <td>60182</td>\n",
       "      <td>1</td>\n",
       "      <td>49.0</td>\n",
       "      <td>0</td>\n",
       "      <td>0</td>\n",
       "      <td>1</td>\n",
       "      <td>1</td>\n",
       "      <td>171.23</td>\n",
       "      <td>34.40</td>\n",
       "      <td>2</td>\n",
       "      <td>1</td>\n",
       "      <td>0</td>\n",
       "      <td>0</td>\n",
       "      <td>1</td>\n",
       "      <td>0</td>\n",
       "      <td>0</td>\n",
       "    </tr>\n",
       "    <tr>\n",
       "      <th>4</th>\n",
       "      <td>1665</td>\n",
       "      <td>1</td>\n",
       "      <td>79.0</td>\n",
       "      <td>1</td>\n",
       "      <td>0</td>\n",
       "      <td>1</td>\n",
       "      <td>0</td>\n",
       "      <td>174.12</td>\n",
       "      <td>24.00</td>\n",
       "      <td>0</td>\n",
       "      <td>1</td>\n",
       "      <td>0</td>\n",
       "      <td>0</td>\n",
       "      <td>0</td>\n",
       "      <td>1</td>\n",
       "      <td>0</td>\n",
       "    </tr>\n",
       "  </tbody>\n",
       "</table>\n",
       "</div>"
      ],
      "text/plain": [
       "      id  gender   age  hypertension  heart_disease  ever_married  \\\n",
       "0   9046       0  67.0             0              1             1   \n",
       "1  51676       1  61.0             0              0             1   \n",
       "2  31112       0  80.0             0              1             1   \n",
       "3  60182       1  49.0             0              0             1   \n",
       "4   1665       1  79.0             1              0             1   \n",
       "\n",
       "   Residence_type  avg_glucose_level    bmi  smoking_status  stroke  \\\n",
       "0               1             228.69  36.60               1       1   \n",
       "1               0             202.21  31.14               0       1   \n",
       "2               0             105.92  32.50               0       1   \n",
       "3               1             171.23  34.40               2       1   \n",
       "4               0             174.12  24.00               0       1   \n",
       "\n",
       "   work:Govt_job  work:Never_worked  work:Private  work:Self-employed  \\\n",
       "0              0                  0             1                   0   \n",
       "1              0                  0             0                   1   \n",
       "2              0                  0             1                   0   \n",
       "3              0                  0             1                   0   \n",
       "4              0                  0             0                   1   \n",
       "\n",
       "   work:children  \n",
       "0              0  \n",
       "1              0  \n",
       "2              0  \n",
       "3              0  \n",
       "4              0  "
      ]
     },
     "execution_count": 31,
     "metadata": {},
     "output_type": "execute_result"
    }
   ],
   "source": [
    "df.head()"
   ]
  },
  {
   "cell_type": "markdown",
   "id": "built-proposition",
   "metadata": {},
   "source": [
    "### 4.2 Train Test Split"
   ]
  },
  {
   "cell_type": "markdown",
   "id": "green-store",
   "metadata": {},
   "source": [
    "We'll be using **70%** of our dataset for **training** and **30%** for **testing**"
   ]
  },
  {
   "cell_type": "code",
   "execution_count": 38,
   "id": "persistent-sample",
   "metadata": {},
   "outputs": [
    {
     "name": "stdout",
     "output_type": "stream",
     "text": [
      "> 3577 samples for training and 1533 for testing\n"
     ]
    }
   ],
   "source": [
    "# Selecting Features and Target\n",
    "X = df.drop(columns=['stroke', 'id'])\n",
    "y = df['stroke']\n",
    "\n",
    "# Splitting in Train and Test\n",
    "X_train, X_test, y_train, y_test = train_test_split(X, y, train_size=0.7, stratify=y, random_state=42)\n",
    "print(f\"> {len(X_train)} samples for training and {len(X_test)} for testing\")"
   ]
  },
  {
   "cell_type": "markdown",
   "id": "capital-economy",
   "metadata": {},
   "source": [
    "## 5. Model Testing\n",
    "___"
   ]
  },
  {
   "cell_type": "markdown",
   "id": "attached-legislation",
   "metadata": {},
   "source": [
    "### Creating Pipelines for each model"
   ]
  },
  {
   "cell_type": "code",
   "execution_count": 39,
   "id": "described-domain",
   "metadata": {},
   "outputs": [],
   "source": [
    "perceptron_pipeline = Pipeline(steps=[('scaler', StandardScaler()), ('Perceptron', Perceptron(tol=1e-3, random_state=42))])\n",
    "svm_pipeline = Pipeline(steps = [('scaler', StandardScaler()),('SVM', SVC(random_state=42))])\n",
    "logreg_pipeline = Pipeline(steps = [('scaler', StandardScaler()),('LogisticRegression', LogisticRegression(random_state=42))])\n",
    "knn_pipeline = Pipeline(steps = [('scaler', StandardScaler()),('KNN', KNeighborsClassifier(n_neighbors=42))])\n",
    "bayes_pipeline = Pipeline(steps = [('scaler', StandardScaler()),('Bayes', GaussianNB())])\n",
    "rf_pipeline = Pipeline(steps = [('scaler', StandardScaler()),('RandomForest', RandomForestClassifier(class_weight='balanced', random_state=42))])"
   ]
  },
  {
   "cell_type": "markdown",
   "id": "emerging-meaning",
   "metadata": {},
   "source": [
    "### Defining a function to test our models\n",
    "\n",
    "For each of the pipelines, our function will do the following:\n",
    "- 5 fold Cross-Validation on Training Data\n",
    "- Measure Accuracy on Test Data\n",
    "- Classification Report"
   ]
  },
  {
   "cell_type": "code",
   "execution_count": 42,
   "id": "under-bridges",
   "metadata": {},
   "outputs": [],
   "source": [
    "def test_models(pipelines, X_train, y_train, X_test, y_test):\n",
    "    cv_train = {}\n",
    "    acc_test = {}\n",
    "    cr = {}\n",
    "    for pipe in pipelines:\n",
    "        model_name = pipe.steps[-1][0]\n",
    "        # 5-fold cross validation on training data\n",
    "        cv_train[model_name] = cross_val_score(pipe, X_train, y_train, cv=10, scoring='accuracy').mean()\n",
    "        # Accuracy on test data\n",
    "        pipe.fit(X_train, y_train)\n",
    "        pred = pipe.predict(X_test)\n",
    "        acc_test[model_name] = accuracy_score(y_test, pred)\n",
    "        # Classification report\n",
    "        cr[model_name] = classification_report(y_test, pred, zero_division=0)\n",
    "    \n",
    "    # Print scores\n",
    "    print(\"5 fold Cross-Validation on Training Data:\")\n",
    "    for model, cv_score in cv_train.items():\n",
    "        print(f\"- {model}: {cv_score:.6f}\")\n",
    "    print(\"\\nAccuracy on Test Data:\")\n",
    "    for model, acc in acc_test.items():\n",
    "        print(f\"- {model}: {acc:.6f}\")\n",
    "        \n",
    "    return cr"
   ]
  },
  {
   "cell_type": "markdown",
   "id": "voluntary-harvest",
   "metadata": {},
   "source": [
    "### Testing Models"
   ]
  },
  {
   "cell_type": "code",
   "execution_count": 43,
   "id": "classical-mobility",
   "metadata": {},
   "outputs": [
    {
     "name": "stdout",
     "output_type": "stream",
     "text": [
      "5 fold Cross-Validation on Training Data:\n",
      "- Perceptron: 0.909729\n",
      "- SVM: 0.951357\n",
      "- LogisticRegression: 0.951357\n",
      "- KNN: 0.951357\n",
      "- Bayes: 0.302224\n",
      "- RandomForest: 0.949401\n",
      "\n",
      "Accuracy on Test Data:\n",
      "- Perceptron: 0.947162\n",
      "- SVM: 0.951076\n",
      "- LogisticRegression: 0.951729\n",
      "- KNN: 0.951076\n",
      "- Bayes: 0.316373\n",
      "- RandomForest: 0.951076\n"
     ]
    }
   ],
   "source": [
    "pipelines = [perceptron_pipeline, svm_pipeline, logreg_pipeline, knn_pipeline, bayes_pipeline, rf_pipeline]\n",
    "\n",
    "cr = test_models(pipelines, X_train, y_train, X_test, y_test)"
   ]
  },
  {
   "cell_type": "markdown",
   "id": "vocational-census",
   "metadata": {},
   "source": [
    "**Random Forest** and **Logistic Regression** performed the best in both training and test data. Let's take a look at the Classification Report."
   ]
  },
  {
   "cell_type": "code",
   "execution_count": 44,
   "id": "ranging-samuel",
   "metadata": {},
   "outputs": [
    {
     "name": "stdout",
     "output_type": "stream",
     "text": [
      "Random Forest\n",
      "              precision    recall  f1-score   support\n",
      "\n",
      "           0       0.95      1.00      0.97      1458\n",
      "           1       0.50      0.01      0.03        75\n",
      "\n",
      "    accuracy                           0.95      1533\n",
      "   macro avg       0.73      0.51      0.50      1533\n",
      "weighted avg       0.93      0.95      0.93      1533\n",
      "\n",
      "\n",
      "\n",
      "Logistic Regression\n",
      "              precision    recall  f1-score   support\n",
      "\n",
      "           0       0.95      1.00      0.98      1458\n",
      "           1       1.00      0.01      0.03        75\n",
      "\n",
      "    accuracy                           0.95      1533\n",
      "   macro avg       0.98      0.51      0.50      1533\n",
      "weighted avg       0.95      0.95      0.93      1533\n",
      "\n"
     ]
    }
   ],
   "source": [
    "print(\"Random Forest\")\n",
    "print(cr['RandomForest'])\n",
    "print(\"\\n\\nLogistic Regression\")\n",
    "print(cr['LogisticRegression'])"
   ]
  },
  {
   "cell_type": "markdown",
   "id": "external-green",
   "metadata": {},
   "source": [
    "As we can see both models fail to identify the class `1` (stroke cases).\n",
    "\n",
    "What is the problem?\n",
    "Our dataset is **highly imbalanced**, there are only **249** strokes cases in our whole dataset (**4,87%**). So even a dumb classifier (which predicts only 0) can get a good accuracy score.\n",
    "\n",
    "Let's try to balance our dataset using SMOTE."
   ]
  },
  {
   "cell_type": "markdown",
   "id": "complete-triangle",
   "metadata": {},
   "source": [
    "### Oversampling using SMOTE (Synthetic Minority Oversampling Technique)"
   ]
  },
  {
   "cell_type": "markdown",
   "id": "sought-stopping",
   "metadata": {},
   "source": [
    "SMOTE will create synthetic samples for the minority class."
   ]
  },
  {
   "cell_type": "code",
   "execution_count": 45,
   "id": "attempted-pillow",
   "metadata": {},
   "outputs": [
    {
     "name": "stdout",
     "output_type": "stream",
     "text": [
      "Before SMOTE:\n",
      "- 174 stroke cases\n",
      "- 3403 no-stroke cases\n",
      "\n",
      "After SMOTE:\n",
      "- 3403 stroke cases\n",
      "- 3403 no-stroke cases\n",
      "\n",
      "DataFrame shape after SMOTE: (6806, 14)\n"
     ]
    }
   ],
   "source": [
    "smote = SMOTE(random_state=42)\n",
    "X_train_smote, y_train_smote = smote.fit_resample(X_train, y_train)\n",
    "\n",
    "print(f\"Before SMOTE:\\n- {sum(y_train == 1)} stroke cases\\n- {sum(y_train == 0)} no-stroke cases\\n\")\n",
    "print(f\"After SMOTE:\\n- {sum(y_train_smote == 1)} stroke cases\\n- {sum(y_train_smote == 0)} no-stroke cases\\n\")\n",
    "print(f\"DataFrame shape after SMOTE: {X_train_smote.shape}\")"
   ]
  },
  {
   "cell_type": "code",
   "execution_count": 46,
   "id": "arabic-matthew",
   "metadata": {},
   "outputs": [
    {
     "name": "stdout",
     "output_type": "stream",
     "text": [
      "5 fold Cross-Validation on Training Data:\n",
      "- Perceptron: 0.820166\n",
      "- SVM: 0.899949\n",
      "- LogisticRegression: 0.861164\n",
      "- KNN: 0.874971\n",
      "- Bayes: 0.608142\n",
      "- RandomForest: 0.961662\n",
      "\n",
      "Accuracy on Test Data:\n",
      "- Perceptron: 0.835616\n",
      "- SVM: 0.859100\n",
      "- LogisticRegression: 0.849315\n",
      "- KNN: 0.817352\n",
      "- Bayes: 0.272668\n",
      "- RandomForest: 0.917156\n"
     ]
    }
   ],
   "source": [
    "pipelines = [perceptron_pipeline, svm_pipeline, logreg_pipeline, knn_pipeline, bayes_pipeline, rf_pipeline]\n",
    "\n",
    "cr = test_models(pipelines, X_train_smote, y_train_smote, X_test, y_test)"
   ]
  },
  {
   "cell_type": "markdown",
   "id": "ranging-approach",
   "metadata": {},
   "source": [
    "**RandomForest** and **LogisticRegression** had the best results again. Let's take a look at the Classification Report."
   ]
  },
  {
   "cell_type": "code",
   "execution_count": 47,
   "id": "dynamic-guard",
   "metadata": {},
   "outputs": [
    {
     "name": "stdout",
     "output_type": "stream",
     "text": [
      "Random Forest\n",
      "              precision    recall  f1-score   support\n",
      "\n",
      "           0       0.96      0.95      0.96      1458\n",
      "           1       0.18      0.20      0.19        75\n",
      "\n",
      "    accuracy                           0.92      1533\n",
      "   macro avg       0.57      0.58      0.57      1533\n",
      "weighted avg       0.92      0.92      0.92      1533\n",
      "\n",
      "\n",
      "\n",
      "Logistic Regression\n",
      "              precision    recall  f1-score   support\n",
      "\n",
      "           0       0.97      0.86      0.92      1458\n",
      "           1       0.17      0.55      0.26        75\n",
      "\n",
      "    accuracy                           0.85      1533\n",
      "   macro avg       0.57      0.71      0.59      1533\n",
      "weighted avg       0.93      0.85      0.88      1533\n",
      "\n"
     ]
    }
   ],
   "source": [
    "print(\"Random Forest\")\n",
    "print(cr['RandomForest'])\n",
    "print(\"\\n\\nLogistic Regression\")\n",
    "print(cr['LogisticRegression'])"
   ]
  },
  {
   "cell_type": "markdown",
   "id": "together-instrument",
   "metadata": {},
   "source": [
    "The results after SMOTE are better than before.\n",
    "\n",
    "But not good enough..."
   ]
  },
  {
   "cell_type": "markdown",
   "id": "disciplinary-entrepreneur",
   "metadata": {},
   "source": [
    "### Grid Search\n",
    "\n",
    "Let's try to find the best hyperparameters for the RandomForest and LogisticRegression models."
   ]
  },
  {
   "cell_type": "code",
   "execution_count": 48,
   "id": "enhanced-binary",
   "metadata": {},
   "outputs": [],
   "source": [
    "def plot_cm(expected, predicted):\n",
    "    cm = confusion_matrix(expected, predicted)\n",
    "    plt.figure(figsize=(6, 6))\n",
    "    sns.set(font_scale=1.4)\n",
    "    sns.heatmap(cm, cmap='Blues', annot=True, fmt='d', cbar = False, annot_kws = {'fontsize': 15}, \n",
    "            yticklabels = ['No stroke', 'Stroke'], xticklabels = ['Predicted no stroke', 'Predicted stroke'])\n",
    "    plt.show()"
   ]
  },
  {
   "cell_type": "code",
   "execution_count": 49,
   "id": "advisory-comparative",
   "metadata": {},
   "outputs": [
    {
     "name": "stdout",
     "output_type": "stream",
     "text": [
      "Fitting 5 folds for each of 100 candidates, totalling 500 fits\n",
      "\n",
      "               precision    recall  f1-score   support\n",
      "\n",
      "           0       0.96      0.90      0.93      1458\n",
      "           1       0.13      0.29      0.18        75\n",
      "\n",
      "    accuracy                           0.87      1533\n",
      "   macro avg       0.55      0.60      0.56      1533\n",
      "weighted avg       0.92      0.87      0.89      1533\n",
      "\n"
     ]
    },
    {
     "data": {
      "image/png": "[encoded data removed]",
      "text/plain": [
       "<Figure size 432x432 with 1 Axes>"
      ]
     },
     "metadata": {},
     "output_type": "display_data"
    }
   ],
   "source": [
    "# RandomForest\n",
    "param_grid = {\n",
    "  'RandomForest__n_estimators': np.arange(2, 100),\n",
    "  'RandomForest__min_samples_split': np.arange(8, 51),\n",
    "  'RandomForest__min_samples_leaf': np.arange(1, 31),\n",
    "  'RandomForest__max_depth': np.arange(2, 20),\n",
    "  'RandomForest__max_samples': np.arange(0.1, 1, 0.1)\n",
    "}\n",
    "\n",
    "random_grid_search = RandomizedSearchCV(estimator=rf_pipeline,\n",
    "                                        param_distributions=param_grid,\n",
    "                                        n_iter=100,\n",
    "                                        scoring='f1_weighted',\n",
    "                                        n_jobs=-1, verbose=2, random_state=42)\n",
    "\n",
    "random_grid_search.fit(X_train_smote, y_train_smote)\n",
    "\n",
    "pred = random_grid_search.best_estimator_.predict(X_test)\n",
    "print(\"\\n\", classification_report(y_test, pred))\n",
    "plot_cm(y_test, pred)"
   ]
  },
  {
   "cell_type": "code",
   "execution_count": 50,
   "id": "average-tenant",
   "metadata": {},
   "outputs": [
    {
     "name": "stdout",
     "output_type": "stream",
     "text": [
      "\n",
      "               precision    recall  f1-score   support\n",
      "\n",
      "           0       0.97      0.86      0.92      1458\n",
      "           1       0.17      0.55      0.26        75\n",
      "\n",
      "    accuracy                           0.85      1533\n",
      "   macro avg       0.57      0.71      0.59      1533\n",
      "weighted avg       0.93      0.85      0.88      1533\n",
      "\n"
     ]
    },
    {
     "data": {
      "image/png": "[encoded data removed]",
      "text/plain": [
       "<Figure size 432x432 with 1 Axes>"
      ]
     },
     "metadata": {},
     "output_type": "display_data"
    }
   ],
   "source": [
    "# Logistic Regression\n",
    "param_grid = {\n",
    "    'LogisticRegression__C': [0.001, 0.01, 0.1, 1, 10, 100, 1000]\n",
    "}\n",
    "\n",
    "logreg_grid_search = GridSearchCV(estimator=logreg_pipeline,\n",
    "                                  param_grid=param_grid)\n",
    "\n",
    "logreg_grid_search.fit(X_train_smote, y_train_smote)\n",
    "\n",
    "pred = logreg_grid_search.best_estimator_.predict(X_test)\n",
    "print(\"\\n\", classification_report(y_test, pred))\n",
    "plot_cm(y_test, pred)"
   ]
  }
 ],
 "metadata": {
  "kernelspec": {
   "display_name": "Python 3",
   "language": "python",
   "name": "python3"
  },
  "language_info": {
   "codemirror_mode": {
    "name": "ipython",
    "version": 3
   },
   "file_extension": ".py",
   "mimetype": "text/x-python",
   "name": "python",
   "nbconvert_exporter": "python",
   "pygments_lexer": "ipython3",
   "version": "3.8.8"
  }
 },
 "nbformat": 4,
 "nbformat_minor": 5
}
