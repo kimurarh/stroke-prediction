{
 "cells": [
  {
   "cell_type": "markdown",
   "id": "duplicate-junior",
   "metadata": {},
   "source": [
    "# Stroke Exploratory Analysis"
   ]
  },
  {
   "cell_type": "markdown",
   "id": "arbitrary-pickup",
   "metadata": {},
   "source": [
    "According to the World Health Organization (WHO) stroke is the 2nd leading cause of death globally, responsible for approximately 11% of total deaths.\n",
    "\n",
    "In this project, we'll be exploring a dataset available on [Kaggle](https://www.kaggle.com/fedesoriano/stroke-prediction-dataset) containing the information on strokes. This dataset will be used to predict whether a patient is likely to have a stroke based on various input parameters."
   ]
  },
  {
   "cell_type": "markdown",
   "id": "renewable-relay",
   "metadata": {},
   "source": [
    "#### Importing Libraries"
   ]
  },
  {
   "cell_type": "code",
   "execution_count": 1,
   "id": "transsexual-jacksonville",
   "metadata": {},
   "outputs": [],
   "source": [
    "import numpy as np\n",
    "import pandas as pd\n",
    "\n",
    "import matplotlib.pyplot as plt\n",
    "import seaborn as sns\n",
    "\n",
    "from sklearn.pipeline import Pipeline\n",
    "from sklearn.preprocessing import StandardScaler, LabelEncoder\n",
    "from sklearn.model_selection import train_test_split\n",
    "from sklearn.metrics import r2_score\n",
    "from sklearn.impute import KNNImputer\n",
    "\n",
    "from sklearn.tree import DecisionTreeRegressor"
   ]
  },
  {
   "cell_type": "markdown",
   "id": "compact-third",
   "metadata": {},
   "source": [
    "## 1. Loading Dataset\n",
    "___"
   ]
  },
  {
   "cell_type": "code",
   "execution_count": 2,
   "id": "aggressive-grove",
   "metadata": {},
   "outputs": [
    {
     "name": "stdout",
     "output_type": "stream",
     "text": [
      "> There are 5110 rows and 12 columns.\n"
     ]
    },
    {
     "data": {
      "text/html": [
       "<div>\n",
       "<style scoped>\n",
       "    .dataframe tbody tr th:only-of-type {\n",
       "        vertical-align: middle;\n",
       "    }\n",
       "\n",
       "    .dataframe tbody tr th {\n",
       "        vertical-align: top;\n",
       "    }\n",
       "\n",
       "    .dataframe thead th {\n",
       "        text-align: right;\n",
       "    }\n",
       "</style>\n",
       "<table border=\"1\" class=\"dataframe\">\n",
       "  <thead>\n",
       "    <tr style=\"text-align: right;\">\n",
       "      <th></th>\n",
       "      <th>id</th>\n",
       "      <th>gender</th>\n",
       "      <th>age</th>\n",
       "      <th>hypertension</th>\n",
       "      <th>heart_disease</th>\n",
       "      <th>ever_married</th>\n",
       "      <th>work_type</th>\n",
       "      <th>Residence_type</th>\n",
       "      <th>avg_glucose_level</th>\n",
       "      <th>bmi</th>\n",
       "      <th>smoking_status</th>\n",
       "      <th>stroke</th>\n",
       "    </tr>\n",
       "  </thead>\n",
       "  <tbody>\n",
       "    <tr>\n",
       "      <th>0</th>\n",
       "      <td>9046</td>\n",
       "      <td>Male</td>\n",
       "      <td>67.0</td>\n",
       "      <td>0</td>\n",
       "      <td>1</td>\n",
       "      <td>Yes</td>\n",
       "      <td>Private</td>\n",
       "      <td>Urban</td>\n",
       "      <td>228.69</td>\n",
       "      <td>36.6</td>\n",
       "      <td>formerly smoked</td>\n",
       "      <td>1</td>\n",
       "    </tr>\n",
       "    <tr>\n",
       "      <th>1</th>\n",
       "      <td>51676</td>\n",
       "      <td>Female</td>\n",
       "      <td>61.0</td>\n",
       "      <td>0</td>\n",
       "      <td>0</td>\n",
       "      <td>Yes</td>\n",
       "      <td>Self-employed</td>\n",
       "      <td>Rural</td>\n",
       "      <td>202.21</td>\n",
       "      <td>NaN</td>\n",
       "      <td>never smoked</td>\n",
       "      <td>1</td>\n",
       "    </tr>\n",
       "    <tr>\n",
       "      <th>2</th>\n",
       "      <td>31112</td>\n",
       "      <td>Male</td>\n",
       "      <td>80.0</td>\n",
       "      <td>0</td>\n",
       "      <td>1</td>\n",
       "      <td>Yes</td>\n",
       "      <td>Private</td>\n",
       "      <td>Rural</td>\n",
       "      <td>105.92</td>\n",
       "      <td>32.5</td>\n",
       "      <td>never smoked</td>\n",
       "      <td>1</td>\n",
       "    </tr>\n",
       "    <tr>\n",
       "      <th>3</th>\n",
       "      <td>60182</td>\n",
       "      <td>Female</td>\n",
       "      <td>49.0</td>\n",
       "      <td>0</td>\n",
       "      <td>0</td>\n",
       "      <td>Yes</td>\n",
       "      <td>Private</td>\n",
       "      <td>Urban</td>\n",
       "      <td>171.23</td>\n",
       "      <td>34.4</td>\n",
       "      <td>smokes</td>\n",
       "      <td>1</td>\n",
       "    </tr>\n",
       "    <tr>\n",
       "      <th>4</th>\n",
       "      <td>1665</td>\n",
       "      <td>Female</td>\n",
       "      <td>79.0</td>\n",
       "      <td>1</td>\n",
       "      <td>0</td>\n",
       "      <td>Yes</td>\n",
       "      <td>Self-employed</td>\n",
       "      <td>Rural</td>\n",
       "      <td>174.12</td>\n",
       "      <td>24.0</td>\n",
       "      <td>never smoked</td>\n",
       "      <td>1</td>\n",
       "    </tr>\n",
       "  </tbody>\n",
       "</table>\n",
       "</div>"
      ],
      "text/plain": [
       "      id  gender   age  hypertension  heart_disease ever_married  \\\n",
       "0   9046    Male  67.0             0              1          Yes   \n",
       "1  51676  Female  61.0             0              0          Yes   \n",
       "2  31112    Male  80.0             0              1          Yes   \n",
       "3  60182  Female  49.0             0              0          Yes   \n",
       "4   1665  Female  79.0             1              0          Yes   \n",
       "\n",
       "       work_type Residence_type  avg_glucose_level   bmi   smoking_status  \\\n",
       "0        Private          Urban             228.69  36.6  formerly smoked   \n",
       "1  Self-employed          Rural             202.21   NaN     never smoked   \n",
       "2        Private          Rural             105.92  32.5     never smoked   \n",
       "3        Private          Urban             171.23  34.4           smokes   \n",
       "4  Self-employed          Rural             174.12  24.0     never smoked   \n",
       "\n",
       "   stroke  \n",
       "0       1  \n",
       "1       1  \n",
       "2       1  \n",
       "3       1  \n",
       "4       1  "
      ]
     },
     "execution_count": 2,
     "metadata": {},
     "output_type": "execute_result"
    }
   ],
   "source": [
    "df = pd.read_csv(\"data/healthcare-dataset-stroke-data.csv\")\n",
    "print(f\"> There are {df.shape[0]} rows and {df.shape[1]} columns.\")\n",
    "df.head()"
   ]
  },
  {
   "cell_type": "markdown",
   "id": "dying-olive",
   "metadata": {},
   "source": [
    "**Attribute Information**:\n",
    "\n",
    "- **id**: unique identifier;\n",
    "- **gender**: gender (Male, Female or Other);\n",
    "- **age**: age of the person;\n",
    "- **hypertension**: person has hypertension (1 or 0);\n",
    "- **heart_disease**: person has any heart disease (1 or 0);\n",
    "- **ever_married**: person has been married (1 or 0);\n",
    "- **work_type**: nature of work place (children, Govt_jov, Never_worked, Private or Self-employed);\n",
    "- **Residence_type**: Residence type of the individual (Rural or Urban);\n",
    "- **avg_glucose_level**: average glucose level in blood for the individual;\n",
    "- **bmi**: body mass index of the individual;\n",
    "- **smoking_status**: current smoking status (formerly smoked, never smoked, smokes or Unknown);\n",
    "- **stroke**: person suffered heart attack (1 or 0)."
   ]
  },
  {
   "cell_type": "markdown",
   "id": "likely-riding",
   "metadata": {},
   "source": [
    "## 2. Data Cleaning\n",
    "___"
   ]
  },
  {
   "cell_type": "markdown",
   "id": "criminal-street",
   "metadata": {},
   "source": [
    "### Missing data"
   ]
  },
  {
   "cell_type": "code",
   "execution_count": 3,
   "id": "revised-posting",
   "metadata": {},
   "outputs": [
    {
     "data": {
      "image/png": "[encoded data removed]",
      "text/plain": [
       "<Figure size 432x288 with 2 Axes>"
      ]
     },
     "metadata": {
      "needs_background": "light"
     },
     "output_type": "display_data"
    }
   ],
   "source": [
    "ax = sns.heatmap(df.isna().sum().to_frame(), annot=True, fmt='d', cmap='vlag')\n",
    "plt.title('Missing Values', fontweight='bold')\n",
    "ax.set_xlabel('# missing values')\n",
    "plt.show()"
   ]
  },
  {
   "cell_type": "markdown",
   "id": "restricted-bracelet",
   "metadata": {},
   "source": [
    "There are `201` missing values in the `bmi` column.\n",
    "\n",
    "There are many ways we could deal with missing data (drop, fill values with mean/median, knn imputer).\n",
    "\n",
    "In this case we'll be using **Decision Tree Regressor** to predict the missing values."
   ]
  },
  {
   "cell_type": "markdown",
   "id": "transsexual-client",
   "metadata": {},
   "source": [
    "VERIFICAR OUTRA FORMA\n",
    "\n",
    "CRIAR UM PIPELINE USANDO KNNIMPUTER"
   ]
  },
  {
   "cell_type": "code",
   "execution_count": 4,
   "id": "demanding-mainland",
   "metadata": {},
   "outputs": [],
   "source": [
    "DT_bmi_pipe = Pipeline(steps=[ \n",
    "                              ('Scaler',StandardScaler()),\n",
    "                              ('Regressor',DecisionTreeRegressor(random_state=42))\n",
    "                             ])\n",
    "X = df[['age','gender','bmi']].copy()\n",
    "X.gender = X.gender.replace({'Male':0,'Female':1,'Other':-1}).astype(np.uint8)\n",
    "\n",
    "Missing = X[X.bmi.isna()]\n",
    "X = X[~X.bmi.isna()]\n",
    "y = X.pop('bmi')\n",
    "DT_bmi_pipe.fit(X,y)\n",
    "predicted_bmi = pd.Series(DT_bmi_pipe.predict(Missing[['age','gender']]),index=Missing.index)\n",
    "df.loc[Missing.index,'bmi'] = predicted_bmi"
   ]
  },
  {
   "cell_type": "code",
   "execution_count": 5,
   "id": "sitting-remark",
   "metadata": {},
   "outputs": [
    {
     "data": {
      "text/plain": [
       "-1.6810473508658434"
      ]
     },
     "execution_count": 5,
     "metadata": {},
     "output_type": "execute_result"
    }
   ],
   "source": [
    "r2_score(DT_bmi_pipe.predict(X), y)"
   ]
  },
  {
   "cell_type": "code",
   "execution_count": 12,
   "id": "lovely-protest",
   "metadata": {},
   "outputs": [
    {
     "name": "stdout",
     "output_type": "stream",
     "text": [
      "> Missing values after data cleaning: 0\n"
     ]
    }
   ],
   "source": [
    "print(f\"> Missing values after data cleaning: {sum(df.isna().sum())}\")"
   ]
  },
  {
   "cell_type": "markdown",
   "id": "conventional-specification",
   "metadata": {},
   "source": [
    "## 3. Data Exploration\n",
    "___"
   ]
  },
  {
   "cell_type": "code",
   "execution_count": null,
   "id": "secondary-drove",
   "metadata": {},
   "outputs": [],
   "source": []
  }
 ],
 "metadata": {
  "kernelspec": {
   "display_name": "Python 3",
   "language": "python",
   "name": "python3"
  },
  "language_info": {
   "codemirror_mode": {
    "name": "ipython",
    "version": 3
   },
   "file_extension": ".py",
   "mimetype": "text/x-python",
   "name": "python",
   "nbconvert_exporter": "python",
   "pygments_lexer": "ipython3",
   "version": "3.8.8"
  }
 },
 "nbformat": 4,
 "nbformat_minor": 5
}
